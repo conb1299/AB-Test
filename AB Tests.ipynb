{
 "cells": [
  {
   "cell_type": "markdown",
   "metadata": {},
   "source": [
    "1. Create a sample from a group of people who volunteer to be in a sleep study (This may not be ideal but will be the most accurate way to detect changes in sleep paterns rather than just having people indiviudally report their findings). Randomly separate the sample into two groups. Give one group the new supplement and do not give the other group anything. Record the results to see if there are noticable changes in sleep patterns between the two groups.\n",
    "\n",
    "2. Record the business patterns for a gym for a specific time of year. Try and replicate the time of year as well as possible when introducing the new uniforms so you will have comparable information not ruined by other possible variables. Introduce the new uniforms to the gym and see if the data is comparable, better or worse, than the control period that was already recorded.\n",
    "\n",
    "3. Try and keep a record of website data and how it relates to business gains for a specific period of time. Again try and replicate this period of time as best as possible when a new homepage is established. Look for differences in not only online traffic but also actually monetary gains that can be seen at hte store.'\n",
    "\n",
    "4."
   ]
  }
 ],
 "metadata": {
  "kernelspec": {
   "display_name": "Python 3",
   "language": "python",
   "name": "python3"
  },
  "language_info": {
   "codemirror_mode": {
    "name": "ipython",
    "version": 3
   },
   "file_extension": ".py",
   "mimetype": "text/x-python",
   "name": "python",
   "nbconvert_exporter": "python",
   "pygments_lexer": "ipython3",
   "version": "3.6.1"
  }
 },
 "nbformat": 4,
 "nbformat_minor": 2
}
